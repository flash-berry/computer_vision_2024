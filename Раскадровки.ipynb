{
  "nbformat": 4,
  "nbformat_minor": 0,
  "metadata": {
    "colab": {
      "provenance": [],
      "include_colab_link": true
    },
    "kernelspec": {
      "name": "python3",
      "display_name": "Python 3"
    },
    "language_info": {
      "name": "python"
    }
  },
  "cells": [
    {
      "cell_type": "markdown",
      "metadata": {
        "id": "view-in-github",
        "colab_type": "text"
      },
      "source": [
        "<a href=\"https://colab.research.google.com/github/flash-berry/computer_vision_2024/blob/main/%D0%A0%D0%B0%D1%81%D0%BA%D0%B0%D0%B4%D1%80%D0%BE%D0%B2%D0%BA%D0%B8.ipynb\" target=\"_parent\"><img src=\"https://colab.research.google.com/assets/colab-badge.svg\" alt=\"Open In Colab\"/></a>"
      ]
    },
    {
      "cell_type": "code",
      "execution_count": null,
      "metadata": {
        "id": "ye7goA1FIYBf"
      },
      "outputs": [],
      "source": [
        "from google.colab import drive\n",
        "import cv2\n",
        "import os\n",
        "from datetime import datetime"
      ]
    },
    {
      "cell_type": "code",
      "source": [
        "# Подключение к Google Диску\n",
        "drive.mount('/content/drive')"
      ],
      "metadata": {
        "colab": {
          "base_uri": "https://localhost:8080/"
        },
        "id": "wnzCZGUKIjPB",
        "outputId": "3ed4dece-7e03-4fc0-e09c-054929ba1627"
      },
      "execution_count": null,
      "outputs": [
        {
          "output_type": "stream",
          "name": "stdout",
          "text": [
            "Mounted at /content/drive\n"
          ]
        }
      ]
    },
    {
      "cell_type": "code",
      "source": [
        "def extract_frames_to_drive(video_path, output_folder, interval=1):\n",
        "    \"\"\"\n",
        "    :param video_path: Путь к видеофайлу.\n",
        "    :param output_folder: Папка для сохранения изображений на Google Диске.\n",
        "    :param interval: Интервал между кадрами в секундах.\n",
        "    \"\"\"\n",
        "    # Создаём папку для сохранения кадров, если её нет\n",
        "    if not os.path.exists(output_folder):\n",
        "        os.makedirs(output_folder)\n",
        "\n",
        "    # Открываем видеофайл\n",
        "    video = cv2.VideoCapture(video_path)\n",
        "    fps = int(video.get(cv2.CAP_PROP_FPS))  # Кадры в секунду\n",
        "    frame_count = 0\n",
        "    saved_frames = 0\n",
        "\n",
        "    while True:\n",
        "        ret, frame = video.read()\n",
        "        if not ret:\n",
        "            break\n",
        "\n",
        "        # Сохраняем кадры с заданным интервалом\n",
        "        if frame_count % (fps * interval) == 0:\n",
        "            timestamp = datetime.now().strftime(\"%Y%m%d_%H%M%S\")\n",
        "            frame_name = f\"{output_folder}/{frame_count}.jpg\"\n",
        "            cv2.imwrite(frame_name, frame)\n",
        "            saved_frames += 1\n",
        "\n",
        "        frame_count += 1\n",
        "\n",
        "    video.release()\n",
        "    print(f\"Извлечение завершено. Сохранено {saved_frames} кадров в папку: {output_folder}\")"
      ],
      "metadata": {
        "id": "RRnHTn20IhLg"
      },
      "execution_count": null,
      "outputs": []
    },
    {
      "cell_type": "code",
      "source": [
        "video_file = \"/content/drive/MyDrive/7.MP4\"\n",
        "output_dir = \"/content/drive/MyDrive/7\"\n",
        "extract_frames_to_drive(video_file, output_dir)"
      ],
      "metadata": {
        "colab": {
          "base_uri": "https://localhost:8080/"
        },
        "id": "jOOp0HmKIl8g",
        "outputId": "eb67a170-eaf1-46d1-a227-dd83d0e10311"
      },
      "execution_count": null,
      "outputs": [
        {
          "output_type": "stream",
          "name": "stdout",
          "text": [
            "Извлечение завершено. Сохранено 32 кадров в папку: /content/drive/MyDrive/7\n"
          ]
        }
      ]
    }
  ]
}